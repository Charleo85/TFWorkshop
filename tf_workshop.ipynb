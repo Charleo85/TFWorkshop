{
  "nbformat": 4,
  "nbformat_minor": 0,
  "metadata": {
    "colab": {
      "name": "tf-workshop.ipynb",
      "version": "0.3.2",
      "provenance": [],
      "collapsed_sections": [],
      "toc_visible": true,
      "include_colab_link": true
    },
    "kernelspec": {
      "name": "python3",
      "display_name": "Python 3"
    }
  },
  "cells": [
    {
      "cell_type": "markdown",
      "metadata": {
        "id": "view-in-github",
        "colab_type": "text"
      },
      "source": [
        "<a href=\"https://colab.research.google.com/github/Charleo85/TFWorkshop/blob/master/tf_workshop.ipynb\" target=\"_parent\"><img src=\"https://colab.research.google.com/assets/colab-badge.svg\" alt=\"Open In Colab\"/></a>"
      ]
    },
    {
      "metadata": {
        "id": "bRrJkYoh9GUO",
        "colab_type": "code",
        "colab": {}
      },
      "cell_type": "code",
      "source": [
        "import tensorflow as tf;\n",
        "print(tf.__version__)\n",
        "import numpy as np\n",
        "import random, math, datetime"
      ],
      "execution_count": 0,
      "outputs": []
    },
    {
      "metadata": {
        "id": "8DDyM-WN9GUc",
        "colab_type": "text"
      },
      "cell_type": "markdown",
      "source": [
        "# from Numpy to Tensor\n",
        "- initialize tensor (n-dimentional array)"
      ]
    },
    {
      "metadata": {
        "id": "EQ1REgUV9GUd",
        "colab_type": "code",
        "colab": {}
      },
      "cell_type": "code",
      "source": [
        "print(np.zeros((2, 1))) \n",
        "print(np.ones((1, 2), dtype=int))"
      ],
      "execution_count": 0,
      "outputs": []
    },
    {
      "metadata": {
        "id": "XoJtK67J9GUl",
        "colab_type": "code",
        "colab": {}
      },
      "cell_type": "code",
      "source": [
        "print(tf.zeros([2, 1]))\n",
        "print(tf.ones([1, 2], dtype=tf.int32))"
      ],
      "execution_count": 0,
      "outputs": []
    },
    {
      "metadata": {
        "id": "k5SYMXX29GVA",
        "colab_type": "text"
      },
      "cell_type": "markdown",
      "source": [
        "> Notice there is no value but only shape and dtype in the tf tensor \n",
        "> untill you evaluate it in the computational graph\n",
        "\n",
        "# Understand Session \n",
        "\n",
        "`tf.Session() ` encapsulates the environment in which Operation objects are executed, and Tensor objects are evaluated. "
      ]
    },
    {
      "metadata": {
        "id": "7YuQiPWJ-05i",
        "colab_type": "code",
        "colab": {}
      },
      "cell_type": "code",
      "source": [
        "print( tf.Session().run(tf.zeros([2, 1])) )\n",
        "print( tf.Session().run(tf.ones([1, 2], dtype=tf.int32)) )"
      ],
      "execution_count": 0,
      "outputs": []
    },
    {
      "metadata": {
        "id": "uK_vLRYk9GUs",
        "colab_type": "code",
        "colab": {}
      },
      "cell_type": "code",
      "source": [
        "# Constant 1-D Tensor populated with value list.\n",
        "tensor1d = tf.constant([1, 2, 5])\n",
        "print(tensor1d)\n",
        "# Constant 2-D tensor populated with scalar value -1.\n",
        "tensor2d = tf.constant(-1.0, shape=[1, 3])\n",
        "print(tensor2d)\n",
        "# Create a tensor of shape [2, 3] consisting of random normal values, with mean -1 and standard deviation 4.\n",
        "norm2d = tf.random_normal([2, 3], mean=-1, stddev=4)\n",
        "print(norm2d)\n",
        "\n",
        "with tf.Session() as sess:\n",
        "  print(tensor1d.eval())\n",
        "  print(tensor2d.eval())\n",
        "  print(norm2d.eval())"
      ],
      "execution_count": 0,
      "outputs": []
    },
    {
      "metadata": {
        "id": "6fsCZHin9GUx",
        "colab_type": "text"
      },
      "cell_type": "markdown",
      "source": [
        "- indexing and basic operation of tensor"
      ]
    },
    {
      "metadata": {
        "id": "ztPKG2039GUz",
        "colab_type": "code",
        "colab": {}
      },
      "cell_type": "code",
      "source": [
        "a = np.zeros((2, 1))\n",
        "b = np.ones((1, 2))\n",
        "print(a[0,0], a[:,0], a[0,:])\n",
        "np.reshape(a,(2,1))\n",
        "print( a.shape)\n",
        "print( np.sum(b, axis=1)) "
      ],
      "execution_count": 0,
      "outputs": []
    },
    {
      "metadata": {
        "id": "Tg8iwmj59GU4",
        "colab_type": "code",
        "colab": {}
      },
      "cell_type": "code",
      "source": [
        "with tf.Session() as sess:\n",
        "  a = tf.zeros([2, 1])\n",
        "  b = tf.ones([1, 2])\n",
        "  # indexing\n",
        "  print( sess.run( (a[0,0], a[:,0], a[0,:]) ) )\n",
        "  # reshape\n",
        "  tf.reshape(a,(2,1))\n",
        "  print(a.shape)\n",
        "  # sum up along the 1st axis\n",
        "  print(tf.reduce_sum(b, [1]).eval())"
      ],
      "execution_count": 0,
      "outputs": []
    },
    {
      "metadata": {
        "id": "V_F4D1NFog7b",
        "colab_type": "text"
      },
      "cell_type": "markdown",
      "source": [
        "Note: Every tensor we define is by default saved in session"
      ]
    },
    {
      "metadata": {
        "id": "zF-yePaEnX1y",
        "colab_type": "code",
        "colab": {}
      },
      "cell_type": "code",
      "source": [
        "tf.Session().run( norm2d )"
      ],
      "execution_count": 0,
      "outputs": []
    },
    {
      "metadata": {
        "id": "t6dKr7awpPWY",
        "colab_type": "text"
      },
      "cell_type": "markdown",
      "source": [
        "Use `tf.reset_default_graph()` to clean up tensor and the computational graph you have built so far"
      ]
    },
    {
      "metadata": {
        "id": "BTtit-lb9GVT",
        "colab_type": "code",
        "colab": {}
      },
      "cell_type": "code",
      "source": [
        "tf.reset_default_graph()"
      ],
      "execution_count": 0,
      "outputs": []
    },
    {
      "metadata": {
        "id": "uTMji6whnyyd",
        "colab_type": "code",
        "colab": {}
      },
      "cell_type": "code",
      "source": [
        "tf.Session().run( norm2d )\n",
        "## RuntimeError is triggered as expected, since the tensor definition was cleared"
      ],
      "execution_count": 0,
      "outputs": []
    },
    {
      "metadata": {
        "id": "ohlNrWCi9GVW",
        "colab_type": "text"
      },
      "cell_type": "markdown",
      "source": [
        "# Build Flow"
      ]
    },
    {
      "metadata": {
        "id": "N_zBj8exr6It",
        "colab_type": "text"
      },
      "cell_type": "markdown",
      "source": [
        "## Calculate ${(2*3)} ^ {2+3}$ with TensorFlow\n",
        "### The 2-phase pipeline to code a tensorflow model\n",
        "- Phase 1: assemble a graph, no computation happen at this phase!!!"
      ]
    },
    {
      "metadata": {
        "id": "rql8s6ZA9GVY",
        "colab_type": "code",
        "colab": {}
      },
      "cell_type": "code",
      "source": [
        "x = tf.constant(2, name='2') # explicit naming the node help visualization in the graph\n",
        "y = tf.constant(3, name='3')\n",
        "op1 = tf.add(x, y, name='addition')\n",
        "op2 = tf.multiply(x, y, name='muliply')\n",
        "op3 = tf.pow(op2, op1, name='power')"
      ],
      "execution_count": 0,
      "outputs": []
    },
    {
      "metadata": {
        "id": "8c6c2ZY59GVc",
        "colab_type": "text"
      },
      "cell_type": "markdown",
      "source": [
        "- Phase 2: use a session to execute operations in the graph."
      ]
    },
    {
      "metadata": {
        "id": "N2tKOVte9GVd",
        "colab_type": "code",
        "colab": {}
      },
      "cell_type": "code",
      "source": [
        "with tf.Session() as sess:\n",
        "    print(\"2+3=\", op1.eval()) \n",
        "    print(\"2*3=\", op2.eval())\n",
        "    print(\"%d^%d= %d\"%(sess.run((op2, op1,op3)) ) )"
      ],
      "execution_count": 0,
      "outputs": []
    },
    {
      "metadata": {
        "id": "7MMdC-sq9GVi",
        "colab_type": "text"
      },
      "cell_type": "markdown",
      "source": [
        "## To visualize my computation graph in TensorBoard"
      ]
    },
    {
      "metadata": {
        "id": "xrtdrBnY9GVj",
        "colab_type": "code",
        "colab": {}
      },
      "cell_type": "code",
      "source": [
        "with tf.Session() as sess:\n",
        "    # save computational graph in directory used by tensorboard\n",
        "    writer = tf.summary.FileWriter('./logs', sess.graph) \n",
        "writer.close() # close the writer when you’re done using it"
      ],
      "execution_count": 0,
      "outputs": []
    },
    {
      "metadata": {
        "id": "yRxldPpi9GVo",
        "colab_type": "text"
      },
      "cell_type": "markdown",
      "source": [
        "If running in localhost, use command line\n",
        "``` sh\n",
        "$ tensorboard --logdir=\"./logs\" --port 6006\n",
        "# Then open your browser and go to: http://localhost:6006/\n",
        "# you will see two graph one is the previous graph, the other is the current graph\n",
        "```\n",
        "Or load tensorboard in Colab:\n"
      ]
    },
    {
      "metadata": {
        "id": "8z7wrpnoqajN",
        "colab_type": "code",
        "colab": {}
      },
      "cell_type": "code",
      "source": [
        "# Load tensorboard extension in Colab\n",
        "%load_ext tensorboard.notebook "
      ],
      "execution_count": 0,
      "outputs": []
    },
    {
      "metadata": {
        "id": "KLi11P0Vq2Yk",
        "colab_type": "code",
        "colab": {}
      },
      "cell_type": "code",
      "source": [
        "# let tensorboard listen on logs/ directory\n",
        "%tensorboard --logdir logs/"
      ],
      "execution_count": 0,
      "outputs": []
    },
    {
      "metadata": {
        "id": "L-z50pg89GVp",
        "colab_type": "text"
      },
      "cell_type": "markdown",
      "source": [
        "## Calculate ${(x*3)} ^ {x+3}$ with TensorFlow\n",
        "- use `tf.placeholder` to hold the place for input/output tensor "
      ]
    },
    {
      "metadata": {
        "id": "YBIXQ4R69GVr",
        "colab_type": "code",
        "colab": {}
      },
      "cell_type": "code",
      "source": [
        "g_1 = tf.Graph() # specify a graph scope to differetiate from previous graph definition\n",
        "with g_1.as_default():\n",
        "    x_placeholder = tf.placeholder(tf.int32, shape=(), name='x')\n",
        "    y = tf.constant(3, name='3')\n",
        "    op1 = tf.add(x_placeholder, y)\n",
        "    op2 = tf.multiply(x_placeholder, y)\n",
        "    op3 = tf.pow(op2, op1)\n",
        "\n",
        "    with tf.Session() as sess:\n",
        "        writer = tf.summary.FileWriter('./logs', sess.graph) \n",
        "        print(sess.run(op3, feed_dict={x_placeholder : 2}))\n",
        "        print(sess.run(op3, feed_dict={x_placeholder : 10})) ## overflow happens\n",
        "\n",
        "        print(sess.run(op3, feed_dict={x_placeholder : 3}))\n",
        "    writer.close() # close the writer when you’re done using it"
      ],
      "execution_count": 0,
      "outputs": []
    },
    {
      "metadata": {
        "id": "y0I-UTpmsN_A",
        "colab_type": "code",
        "colab": {}
      },
      "cell_type": "code",
      "source": [
        "%tensorboard --logdir logs/"
      ],
      "execution_count": 0,
      "outputs": []
    },
    {
      "metadata": {
        "id": "7w7Vtm2-9GV2",
        "colab_type": "text"
      },
      "cell_type": "markdown",
      "source": [
        "# Linear Regression with Tensorflow"
      ]
    },
    {
      "metadata": {
        "id": "ye_G5AN39GV3",
        "colab_type": "code",
        "colab": {}
      },
      "cell_type": "code",
      "source": [
        "### Simulate training Data in numpy\n",
        "num_samples = 1000; # sample size\n",
        "num_features = 5; # feture size\n",
        "data_X = np.random.rand(num_samples, num_features)\n",
        "weight = np.random.rand(num_features, 1)\n",
        "noise = np.random.normal(0, .1, (num_samples, 1))\n",
        "data_Y = np.dot(data_X, weight) + noise  #simulate a linear relation with gaussian noise\n",
        "from sklearn.model_selection import train_test_split\n",
        "X_train, X_test, Y_train, Y_test = train_test_split(data_X, data_Y, test_size=0.1)"
      ],
      "execution_count": 0,
      "outputs": []
    },
    {
      "metadata": {
        "id": "kcXsko489GV8",
        "colab_type": "text"
      },
      "cell_type": "markdown",
      "source": [
        "- use `tf.Variable` store the tensor whose value/state can be changed (trained)"
      ]
    },
    {
      "metadata": {
        "id": "uxFYoLml9GV-",
        "colab_type": "code",
        "colab": {}
      },
      "cell_type": "code",
      "source": [
        "# Graph Input Nodes\n",
        "with tf.variable_scope(\"input/output\", reuse=True):  # use variable scope to group graph node definition\n",
        "    X = tf.placeholder(tf.float64, shape=(None, num_features), name=\"features\")\n",
        "    Y = tf.placeholder(tf.float64, shape=(None, 1), name=\"label\")"
      ],
      "execution_count": 0,
      "outputs": []
    },
    {
      "metadata": {
        "id": "raKsF9rE9GWA",
        "colab_type": "code",
        "colab": {}
      },
      "cell_type": "code",
      "source": [
        "# let model weight be Variable that is learnable\n",
        "W = tf.Variable(np.random.rand(num_features, 1), name=\"weight\")\n",
        "b = tf.Variable(tf.constant(-1.0, shape=[1, 1], dtype=tf.float64), name=\"bias\")"
      ],
      "execution_count": 0,
      "outputs": []
    },
    {
      "metadata": {
        "id": "8S7eGxRB9GWG",
        "colab_type": "code",
        "colab": {}
      },
      "cell_type": "code",
      "source": [
        "pred = tf.add(tf.matmul(X, W), b)    # Construct a linear model y = xW + b\n",
        "cost = tf.reduce_mean(tf.pow(pred-Y, 2))    # Mean squared error"
      ],
      "execution_count": 0,
      "outputs": []
    },
    {
      "metadata": {
        "id": "GSyenrBn9GWI",
        "colab_type": "text"
      },
      "cell_type": "markdown",
      "source": [
        "- `tf.train.optimizer` provide optimizer API to train a model https://www.tensorflow.org/api_docs/python/tf/train/Optimizer"
      ]
    },
    {
      "metadata": {
        "id": "2AZjXNeT9GWK",
        "colab_type": "code",
        "colab": {}
      },
      "cell_type": "code",
      "source": [
        "# construct Gradient Descent optimizer\n",
        "learning_rate = 0.1\n",
        "optimizer = tf.train.GradientDescentOptimizer(learning_rate).minimize(cost)"
      ],
      "execution_count": 0,
      "outputs": []
    },
    {
      "metadata": {
        "id": "UTB9kqwe9GWN",
        "colab_type": "text"
      },
      "cell_type": "markdown",
      "source": [
        "- `tf.summary` provide a way to export condensed information about a model, which is then accessible in tools such as TensorBoard. https://www.tensorflow.org/versions/r1.1/api_guides/python/summary"
      ]
    },
    {
      "metadata": {
        "id": "fCDRxoSz9GWO",
        "colab_type": "code",
        "colab": {}
      },
      "cell_type": "code",
      "source": [
        "with tf.variable_scope('linear_regression_summarizer', reuse=True):\n",
        "    training_summary = tf.summary.scalar(\"training_cost\", cost)\n",
        "    evaluation_summary = tf.summary.scalar(\"evaulation_cost\", cost)"
      ],
      "execution_count": 0,
      "outputs": []
    },
    {
      "metadata": {
        "id": "Ekxqa85G9GWQ",
        "colab_type": "code",
        "colab": {}
      },
      "cell_type": "code",
      "source": [
        "num_epoch = 20\n",
        "with tf.Session() as sess:\n",
        "    # log info to visualize in tensorboard\n",
        "    writer = tf.summary.FileWriter('./logs', sess.graph) \n",
        "    sess.run(tf.global_variables_initializer()) #initialize Variables\n",
        "    for epoch in range(num_epoch):\n",
        "        # compute on train subgraph\n",
        "        _, trn_cost = sess.run([optimizer, training_summary], feed_dict={X: X_train, Y: Y_train})\n",
        "        writer.add_summary(trn_cost, epoch) \n",
        "        # compute on evaluation subgraph\n",
        "        eval_accuracy = sess.run(evaluation_summary, feed_dict={X: X_test, Y: Y_test})\n",
        "        writer.add_summary(eval_accuracy, epoch) "
      ],
      "execution_count": 0,
      "outputs": []
    },
    {
      "metadata": {
        "id": "mB3PtwsJxv5N",
        "colab_type": "code",
        "colab": {}
      },
      "cell_type": "code",
      "source": [
        "%tensorboard --logdir logs/"
      ],
      "execution_count": 0,
      "outputs": []
    },
    {
      "metadata": {
        "id": "qJQEW3fw9GWV",
        "colab_type": "text"
      },
      "cell_type": "markdown",
      "source": [
        "# Logistic Regression with tensorflow\n",
        "\n",
        "MNIST: predict handwriting digits into labels of 0-9"
      ]
    },
    {
      "metadata": {
        "id": "u9fBNWTZyoYq",
        "colab_type": "text"
      },
      "cell_type": "markdown",
      "source": [
        "### load MNIST dataset and split into train and test "
      ]
    },
    {
      "metadata": {
        "id": "XyIfiVdq9GWW",
        "colab_type": "code",
        "colab": {}
      },
      "cell_type": "code",
      "source": [
        "# Import MNIST data\n",
        "import urllib\n",
        "urllib.request.urlretrieve(\"https://s3.amazonaws.com/img-datasets/mnist.npz\", \"mnist.npz\")\n",
        "with np.load('mnist.npz') as f:\n",
        "    x_train, y_train = f['x_train'], f['y_train']\n",
        "    x_test, y_test = f['x_test'], f['y_test']"
      ],
      "execution_count": 0,
      "outputs": []
    },
    {
      "metadata": {
        "id": "LEyigbsP9GWb",
        "colab_type": "code",
        "colab": {}
      },
      "cell_type": "code",
      "source": [
        "print(x_train.shape)\n",
        "print(y_train.shape)"
      ],
      "execution_count": 0,
      "outputs": []
    },
    {
      "metadata": {
        "id": "LsdqvAEV9GWf",
        "colab_type": "text"
      },
      "cell_type": "markdown",
      "source": [
        "![feature](https://cdn-images-1.medium.com/max/800/1*Vo8PMHppg_lWxFAZHZzNGQ.png)"
      ]
    },
    {
      "metadata": {
        "id": "sgU7Oc5VycdW",
        "colab_type": "text"
      },
      "cell_type": "markdown",
      "source": [
        "### Preprocess: Flatten 2d image into 1d"
      ]
    },
    {
      "metadata": {
        "id": "ENOSY-859GWg",
        "colab_type": "code",
        "colab": {}
      },
      "cell_type": "code",
      "source": [
        "# convert x train from 2d image into 1d array of feature\n",
        "num_features = x_train.shape[1]*x_train.shape[2]\n",
        "x_train_flatten = x_train.reshape((x_train.shape[0], num_features)).astype(float)\n",
        "# convert label to one hot embedding\n",
        "nb_classes = 10\n",
        "y_train_onehot = np.eye(nb_classes)[y_train.reshape(-1)]"
      ],
      "execution_count": 0,
      "outputs": []
    },
    {
      "metadata": {
        "id": "8JuwHcBD9GWh",
        "colab_type": "code",
        "colab": {}
      },
      "cell_type": "code",
      "source": [
        "print(x_train_flatten.shape)\n",
        "print(y_train_onehot.shape)"
      ],
      "execution_count": 0,
      "outputs": []
    },
    {
      "metadata": {
        "id": "Y5WbIBua9GWk",
        "colab_type": "code",
        "colab": {}
      },
      "cell_type": "code",
      "source": [
        "# convert x train from 2d image into 1d array of feature\n",
        "x_test_flatten = x_test.reshape((x_test.shape[0], x_test.shape[1]*x_test.shape[2])).astype(float)\n",
        "# convert label to one hot embedding\n",
        "nb_classes = 10\n",
        "y_test_onehot = np.eye(nb_classes)[y_test.reshape(-1)]"
      ],
      "execution_count": 0,
      "outputs": []
    },
    {
      "metadata": {
        "id": "XqbymGTsSMPr",
        "colab_type": "code",
        "colab": {}
      },
      "cell_type": "code",
      "source": [
        "print(x_test_flatten.shape)\n",
        "print(y_test_onehot.shape)"
      ],
      "execution_count": 0,
      "outputs": []
    },
    {
      "metadata": {
        "id": "gZL6IDmT9GWk",
        "colab_type": "text"
      },
      "cell_type": "markdown",
      "source": [
        "### TODO: Contruct multi-class Logistic Regression model in Tensorflow\n",
        "\n",
        "The probability that an input vector x is a member of a class $i$, a value of a stochastic variable $Y$, can be written as:\n",
        "\n",
        "![likehood function](http://deeplearning.net/tutorial/_images/math/53ea9da92e0696d179c66a7db8ee113c9ffff68e.png)"
      ]
    },
    {
      "metadata": {
        "id": "OnlPWUj5zJlA",
        "colab_type": "code",
        "colab": {}
      },
      "cell_type": "code",
      "source": [
        "# clean up previous graph\n",
        "tf.reset_default_graph()"
      ],
      "execution_count": 0,
      "outputs": []
    },
    {
      "metadata": {
        "id": "_9Kqa_3b9GWn",
        "colab_type": "text"
      },
      "cell_type": "markdown",
      "source": [
        "1. set placeholder for input feature and output label"
      ]
    },
    {
      "metadata": {
        "id": "NNYp2g9O9GWo",
        "colab_type": "code",
        "colab": {}
      },
      "cell_type": "code",
      "source": [
        "# tf Graph Input\n",
        "x = tf.placeholder(tf.float32, [None, 784]) # mnist data image of shape 28*28=784 for feature\n",
        "y = tf.placeholder(tf.float32, [None, 10]) # 0-9 digits recognition => 10 classes for label"
      ],
      "execution_count": 0,
      "outputs": []
    },
    {
      "metadata": {
        "id": "X7jJtSV4fppB",
        "colab_type": "code",
        "colab": {}
      },
      "cell_type": "code",
      "source": [
        "with tf.name_scope('input_reshape'):\n",
        "  image_shaped_input = tf.reshape(x, [-1, 28, 28, 1])\n",
        "  input_image_summary = tf.summary.image('input', image_shaped_input, 10)"
      ],
      "execution_count": 0,
      "outputs": []
    },
    {
      "metadata": {
        "id": "Q-Iqj1PG9GWq",
        "colab_type": "text"
      },
      "cell_type": "markdown",
      "source": [
        "2. set Variable to train in logistic regression model"
      ]
    },
    {
      "metadata": {
        "id": "HynN1ri19GWr",
        "colab_type": "code",
        "colab": {}
      },
      "cell_type": "code",
      "source": [
        "# Set model weights\n",
        "W = \n",
        "b = "
      ],
      "execution_count": 0,
      "outputs": []
    },
    {
      "metadata": {
        "id": "Pdd0l4BK9GWs",
        "colab_type": "text"
      },
      "cell_type": "markdown",
      "source": [
        "3. construct model \n",
        "\n",
        "`tf.nn.softmax()` https://www.tensorflow.org/api_docs/python/tf/nn/softmax"
      ]
    },
    {
      "metadata": {
        "id": "GYXCZbQN9GWu",
        "colab_type": "code",
        "colab": {}
      },
      "cell_type": "code",
      "source": [
        "# Construct model\n",
        "y_hat = "
      ],
      "execution_count": 0,
      "outputs": []
    },
    {
      "metadata": {
        "id": "2Zvt_dBf9GWv",
        "colab_type": "text"
      },
      "cell_type": "markdown",
      "source": [
        "Cross entropy loss\n",
        "$$ l = -\\sum_i y_i log \\hat{y_i} $$"
      ]
    },
    {
      "metadata": {
        "id": "bkY32YXi9GWx",
        "colab_type": "code",
        "colab": {}
      },
      "cell_type": "code",
      "source": [
        "# Minimize error using cross entropy\n",
        "cost = "
      ],
      "execution_count": 0,
      "outputs": []
    },
    {
      "metadata": {
        "id": "hiXbpJrI9GW2",
        "colab_type": "code",
        "colab": {}
      },
      "cell_type": "code",
      "source": [
        "# Gradient Descent\n",
        "trainstep ="
      ],
      "execution_count": 0,
      "outputs": []
    },
    {
      "metadata": {
        "id": "omIbYO4YD27F",
        "colab_type": "text"
      },
      "cell_type": "markdown",
      "source": [
        "The model’s prediction y_{pred} is the class whose probability is maximal, specifically:\n",
        "![y_pred](http://deeplearning.net/tutorial/_images/math/26072fdfd3b18206ef38075d82dac9e394ecb6d7.png)"
      ]
    },
    {
      "metadata": {
        "id": "KNjOYBSv9GW4",
        "colab_type": "code",
        "colab": {}
      },
      "cell_type": "code",
      "source": [
        "with tf.variable_scope('summarizer'):\n",
        "    training_summary = tf.summary.scalar(\"training_cost\", cost)\n",
        "    correct_prediction = tf.equal(tf.argmax(y_hat, 1), tf.argmax(y, 1))\n",
        "    accuracy = tf.reduce_mean(tf.cast(correct_prediction, tf.float32) )\n",
        "    evaluation_summary = tf.summary.scalar(\"evaulation_accuracy\", accuracy)"
      ],
      "execution_count": 0,
      "outputs": []
    },
    {
      "metadata": {
        "id": "HGwSufyK9GW7",
        "colab_type": "code",
        "colab": {}
      },
      "cell_type": "code",
      "source": [
        "training_epochs = 10\n",
        "with tf.Session() as sess:\n",
        "    sess.run(tf.global_variables_initializer()) #initialize Variables\n",
        "    model_name = 'logistic_regression'\n",
        "    now = datetime.datetime.now().strftime(\"%Y%m%d-%H%M%S\")\n",
        "    writer = tf.summary.FileWriter('./logs/'+model_name+'_'+now, sess.graph) \n",
        "    input_summary = sess.run(input_image_summary, feed_dict={x: x_test_flatten, y: y_test_onehot})\n",
        "    writer.add_summary(input_summary) \n",
        "    \n",
        "    # Training cycle\n",
        "    for epoch in range(training_epochs):\n",
        "        _, trn_summmary = sess.run([trainstep, training_summary], feed_dict={x: x_train_flatten, y: y_train_onehot})\n",
        "        writer.add_summary(trn_summmary, epoch) \n",
        "        \n",
        "        eval_summary = sess.run(evaluation_summary, feed_dict={x: x_test_flatten, y: y_test_onehot})\n",
        "        writer.add_summary(eval_summary, epoch) \n",
        "        \n",
        "    writer.close()"
      ],
      "execution_count": 0,
      "outputs": []
    },
    {
      "metadata": {
        "id": "4vg1wquu9GW9",
        "colab_type": "code",
        "colab": {}
      },
      "cell_type": "code",
      "source": [
        "%tensorboard --logdir logs/"
      ],
      "execution_count": 0,
      "outputs": []
    },
    {
      "metadata": {
        "id": "xtzc9mJP9GW-",
        "colab_type": "text"
      },
      "cell_type": "markdown",
      "source": [
        "# High-level API with keras\n",
        "- api reference to https://www.tensorflow.org/api_docs/python/tf/keras\n",
        "## multiclass logistic regression model with Keras"
      ]
    },
    {
      "metadata": {
        "id": "EI9g79khXpac",
        "colab_type": "code",
        "colab": {}
      },
      "cell_type": "code",
      "source": [
        "## if you want to remove tensorboard logs in previous run \n",
        "!rm -rf logs/"
      ],
      "execution_count": 0,
      "outputs": []
    },
    {
      "metadata": {
        "id": "pA5q6-tw9GW_",
        "colab_type": "code",
        "colab": {}
      },
      "cell_type": "code",
      "source": [
        "tf.keras.backend.clear_session()\n",
        "\n",
        "model = tf.keras.models.Sequential([\n",
        "    tf.keras.layers.Flatten(), \n",
        "    tf.keras.layers.Dense(10, activation=tf.nn.softmax)\n",
        "])\n",
        "\n",
        "# try different loss, optimizers: sgd, adam\n",
        "model.compile(loss='sparse_categorical_crossentropy', optimizer='adam', metrics=['accuracy'])\n",
        "\n",
        "# The patience parameter is the amount of epochs to check for improvement\n",
        "early_stop = tf.keras.callbacks.EarlyStopping(monitor='val_loss', patience=5)\n",
        "\n",
        "tensor_board = tf.keras.callbacks.TensorBoard(log_dir='./logs/logistic_keras')\n",
        "\n",
        "model.fit(x_train, y_train, epochs=100, validation_split=0.2, verbose=1, callbacks=[early_stop, tensor_board])"
      ],
      "execution_count": 0,
      "outputs": []
    },
    {
      "metadata": {
        "id": "6cxHLSfe_5Lx",
        "colab_type": "code",
        "colab": {}
      },
      "cell_type": "code",
      "source": [
        "%tensorboard --logdir logs/"
      ],
      "execution_count": 0,
      "outputs": []
    },
    {
      "metadata": {
        "id": "ErW5v1OOCRe_",
        "colab_type": "code",
        "colab": {}
      },
      "cell_type": "code",
      "source": [
        "model.evaluate(x_test, y_test)\n"
      ],
      "execution_count": 0,
      "outputs": []
    },
    {
      "metadata": {
        "id": "CnmMryPXeCoB",
        "colab_type": "text"
      },
      "cell_type": "markdown",
      "source": [
        "## Eager Execution and TensorFlow 2.0\n",
        "\n",
        "Experiment feature in tensorflow 1.*\n",
        "Now integrated in Tensorflow 2.0"
      ]
    },
    {
      "metadata": {
        "id": "AZYODm9-hHqm",
        "colab_type": "code",
        "colab": {}
      },
      "cell_type": "code",
      "source": [
        "tf.executing_eagerly() "
      ],
      "execution_count": 0,
      "outputs": []
    }
  ]
}